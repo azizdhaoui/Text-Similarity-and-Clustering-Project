{
  "nbformat": 4,
  "nbformat_minor": 0,
  "metadata": {
    "colab": {
      "provenance": [],
      "include_colab_link": true
    },
    "kernelspec": {
      "name": "python3",
      "display_name": "Python 3"
    },
    "language_info": {
      "name": "python"
    }
  },
  "cells": [
    {
      "cell_type": "markdown",
      "metadata": {
        "id": "view-in-github",
        "colab_type": "text"
      },
      "source": [
        "<a href=\"https://colab.research.google.com/github/azizdhaoui/Text-Similarity-and-Clustering-Project/blob/main/Text%20Similarity%20and%20Clustering%20Project.ipynb\" target=\"_parent\"><img src=\"https://colab.research.google.com/assets/colab-badge.svg\" alt=\"Open In Colab\"/></a>"
      ]
    },
    {
      "cell_type": "code",
      "source": [
        "from sklearn.feature_extraction.text import TfidfVectorizer\n",
        "from sklearn.metrics.pairwise import cosine_similarity\n",
        "from sklearn.cluster import AgglomerativeClustering\n",
        "import numpy as np\n",
        "\n",
        "def calculate_similarity(X, method='cosine'):\n",
        "    if method == 'cosine':\n",
        "        return cosine_similarity(X)\n",
        "    elif method == 'euclidean':\n",
        "        # Convert sparse matrix to dense array for Euclidean distance calculation\n",
        "        X_dense = X.toarray()\n",
        "        # Calculate squared Euclidean distances\n",
        "        distances = np.sum(X_dense**2, axis=1, keepdims=True) - 2 * X_dense.dot(X_dense.T) + np.sum(X_dense.T**2, axis=0)\n",
        "        # Convert distances to similarities\n",
        "        return 1 / (1 + distances)\n",
        "\n",
        "\n",
        "# Step 1: Vectorization of documents\n",
        "documents = [\n",
        "    \"Premier document.\",\n",
        "    \"Deuxième document différent.\",\n",
        "    \"Un autre document pour tester.\",\n",
        "    \"Document similaire au premier.\",\n",
        "    \"Encore un document pour l'exemple.\"\n",
        "]\n",
        "vectorizer = TfidfVectorizer()\n",
        "X = vectorizer.fit_transform(documents)\n",
        "\n",
        "# List of similarity methods to use\n",
        "similarity_methods = ['cosine', 'euclidean']\n",
        "\n",
        "for method in similarity_methods:\n",
        "    # Step 2: Calculation of similarity\n",
        "    similarities = calculate_similarity(X, method=method)\n",
        "\n",
        "    # Step 4: Clustering algorithm\n",
        "    n_clusters = 5\n",
        "    clustering = AgglomerativeClustering(n_clusters=n_clusters, affinity='precomputed', linkage='average')\n",
        "    clustering.fit(similarities)\n",
        "\n",
        "    # Step 5: Segmentation into sub-corpora\n",
        "    sub_corpora = {}\n",
        "    for doc_id, cluster_id in enumerate(clustering.labels_):\n",
        "        if cluster_id not in sub_corpora:\n",
        "            sub_corpora[cluster_id] = []\n",
        "        sub_corpora[cluster_id].append(documents[doc_id])\n",
        "\n",
        "    print(f\"Results for similarity method {method}:\")\n",
        "    for cluster_id, docs in sub_corpora.items():\n",
        "        print(f\"Sub-corpus {cluster_id + 1}:\")\n",
        "        for doc in docs:\n",
        "            print(doc)\n",
        "        print()\n",
        "    print()\n"
      ],
      "metadata": {
        "colab": {
          "base_uri": "https://localhost:8080/"
        },
        "id": "PaOD5UHmVmpp",
        "outputId": "46c8500e-cb4c-4d38-dfce-1fa4590a84be"
      },
      "execution_count": null,
      "outputs": [
        {
          "output_type": "stream",
          "name": "stdout",
          "text": [
            "Results for similarity method cosine:\n",
            "Sub-corpus 3:\n",
            "Premier document.\n",
            "\n",
            "Sub-corpus 4:\n",
            "Deuxième document différent.\n",
            "\n",
            "Sub-corpus 5:\n",
            "Un autre document pour tester.\n",
            "\n",
            "Sub-corpus 2:\n",
            "Document similaire au premier.\n",
            "\n",
            "Sub-corpus 1:\n",
            "Encore un document pour l'exemple.\n",
            "\n",
            "\n",
            "Results for similarity method euclidean:\n",
            "Sub-corpus 3:\n",
            "Premier document.\n",
            "\n",
            "Sub-corpus 4:\n",
            "Deuxième document différent.\n",
            "\n",
            "Sub-corpus 5:\n",
            "Un autre document pour tester.\n",
            "\n",
            "Sub-corpus 2:\n",
            "Document similaire au premier.\n",
            "\n",
            "Sub-corpus 1:\n",
            "Encore un document pour l'exemple.\n",
            "\n",
            "\n"
          ]
        },
        {
          "output_type": "stream",
          "name": "stderr",
          "text": [
            "/usr/local/lib/python3.10/dist-packages/sklearn/cluster/_agglomerative.py:983: FutureWarning: Attribute `affinity` was deprecated in version 1.2 and will be removed in 1.4. Use `metric` instead\n",
            "  warnings.warn(\n",
            "/usr/local/lib/python3.10/dist-packages/sklearn/cluster/_agglomerative.py:983: FutureWarning: Attribute `affinity` was deprecated in version 1.2 and will be removed in 1.4. Use `metric` instead\n",
            "  warnings.warn(\n"
          ]
        }
      ]
    },
    {
      "cell_type": "code",
      "source": [],
      "metadata": {
        "id": "Vva19e9ZUy0N"
      },
      "execution_count": null,
      "outputs": []
    },
    {
      "cell_type": "code",
      "source": [],
      "metadata": {
        "id": "QfVqigs6WvoQ"
      },
      "execution_count": null,
      "outputs": []
    }
  ]
}